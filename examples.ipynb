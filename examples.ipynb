{
 "cells": [
  {
   "cell_type": "code",
   "execution_count": 41,
   "metadata": {},
   "outputs": [
    {
     "name": "stdout",
     "output_type": "stream",
     "text": [
      "4737\n"
     ]
    }
   ],
   "source": [
    "import json\n",
    "\n",
    "dataset = \"quora\"\n",
    "\n",
    "data_file = f\"{dataset}_merged.json\"\n",
    "\n",
    "data = []\n",
    "\n",
    "with open(data_file) as f:\n",
    "    for line in f:\n",
    "        data.append(json.loads(line))\n",
    "print(len(data))\n",
    "\n",
    "clean_data = [\n",
    "    x for x in data\n",
    "    if \"N/A\" not in x[\"task_type\"] and \"unknown\" not in x[\"task_type\"]\n",
    "]"
   ]
  },
  {
   "cell_type": "code",
   "execution_count": 42,
   "metadata": {},
   "outputs": [
    {
     "name": "stdout",
     "output_type": "stream",
     "text": [
      "5000\n"
     ]
    }
   ],
   "source": [
    "\n",
    "data_file = f\"sample_{dataset}.json\"\n",
    "\n",
    "with open(data_file) as f:\n",
    "    raw_data = json.load(f)\n",
    "\n",
    "print(len(raw_data))\n",
    "\n",
    "raw_data_dict = {x[\"id\"]: x for x in raw_data}\n",
    "\n",
    "raw_data_clean = [raw_data_dict[x[\"id\"]] for x in clean_data]"
   ]
  },
  {
   "cell_type": "code",
   "execution_count": 48,
   "metadata": {},
   "outputs": [
    {
     "data": {
      "text/plain": [
       "{'conversations': [{'from': 'human',\n",
       "   'value': 'What will happen if I use 1.5A charger on 1.0A supported phone?'}],\n",
       " 'id': '1046'}"
      ]
     },
     "execution_count": 48,
     "metadata": {},
     "output_type": "execute_result"
    }
   ],
   "source": [
    "raw_data_dict[\"1046\"]"
   ]
  },
  {
   "cell_type": "code",
   "execution_count": 50,
   "metadata": {},
   "outputs": [],
   "source": [
    "data = []\n",
    "\n",
    "with open(\"new_sg_merged_gpt4.json\") as f:\n",
    "    for line in f:\n",
    "        data.append(json.loads(line))\n"
   ]
  },
  {
   "cell_type": "code",
   "execution_count": 52,
   "metadata": {},
   "outputs": [
    {
     "data": {
      "text/html": [
       "<div>\n",
       "<style scoped>\n",
       "    .dataframe tbody tr th:only-of-type {\n",
       "        vertical-align: middle;\n",
       "    }\n",
       "\n",
       "    .dataframe tbody tr th {\n",
       "        vertical-align: top;\n",
       "    }\n",
       "\n",
       "    .dataframe thead th {\n",
       "        text-align: right;\n",
       "    }\n",
       "</style>\n",
       "<table border=\"1\" class=\"dataframe\">\n",
       "  <thead>\n",
       "    <tr style=\"text-align: right;\">\n",
       "      <th></th>\n",
       "      <th>id</th>\n",
       "      <th>domain</th>\n",
       "      <th>summary</th>\n",
       "      <th>rung</th>\n",
       "      <th>task_type</th>\n",
       "    </tr>\n",
       "  </thead>\n",
       "  <tbody>\n",
       "    <tr>\n",
       "      <th>0</th>\n",
       "      <td>0</td>\n",
       "      <td>mathematics</td>\n",
       "      <td>The user is asking for the derivative of a giv...</td>\n",
       "      <td>N/A</td>\n",
       "      <td>N/A</td>\n",
       "    </tr>\n",
       "    <tr>\n",
       "      <th>1</th>\n",
       "      <td>1</td>\n",
       "      <td>N/A</td>\n",
       "      <td>N/A</td>\n",
       "      <td>N/A</td>\n",
       "      <td>N/A</td>\n",
       "    </tr>\n",
       "    <tr>\n",
       "      <th>2</th>\n",
       "      <td>2</td>\n",
       "      <td>medicine</td>\n",
       "      <td>The user requests a summary and the creation o...</td>\n",
       "      <td>Rung 1</td>\n",
       "      <td>calculation of marginal and conditional probab...</td>\n",
       "    </tr>\n",
       "    <tr>\n",
       "      <th>3</th>\n",
       "      <td>3</td>\n",
       "      <td>artificial intelligence, creative writing</td>\n",
       "      <td>Instructions for creating a detailed \"imagine ...</td>\n",
       "      <td>N/A</td>\n",
       "      <td>N/A</td>\n",
       "    </tr>\n",
       "    <tr>\n",
       "      <th>4</th>\n",
       "      <td>4</td>\n",
       "      <td>culinary</td>\n",
       "      <td>Request for a taco recipe using quorn mince wi...</td>\n",
       "      <td>N/A</td>\n",
       "      <td>N/A</td>\n",
       "    </tr>\n",
       "    <tr>\n",
       "      <th>...</th>\n",
       "      <td>...</td>\n",
       "      <td>...</td>\n",
       "      <td>...</td>\n",
       "      <td>...</td>\n",
       "      <td>...</td>\n",
       "    </tr>\n",
       "    <tr>\n",
       "      <th>4507</th>\n",
       "      <td>4993</td>\n",
       "      <td>psychology, personal finance</td>\n",
       "      <td>Write an article about positive thinking and h...</td>\n",
       "      <td>Rung 2</td>\n",
       "      <td>ATE</td>\n",
       "    </tr>\n",
       "    <tr>\n",
       "      <th>4508</th>\n",
       "      <td>4994</td>\n",
       "      <td>culinary, business</td>\n",
       "      <td>The user is seeking to create a list of Canton...</td>\n",
       "      <td>N/A</td>\n",
       "      <td>N/A</td>\n",
       "    </tr>\n",
       "    <tr>\n",
       "      <th>4509</th>\n",
       "      <td>4995</td>\n",
       "      <td>health, pregnancy</td>\n",
       "      <td>The user requests the creation of a detailed, ...</td>\n",
       "      <td>N/A</td>\n",
       "      <td>N/A</td>\n",
       "    </tr>\n",
       "    <tr>\n",
       "      <th>4510</th>\n",
       "      <td>4996</td>\n",
       "      <td>technology, programming</td>\n",
       "      <td>The user is asking for assistance in writing a...</td>\n",
       "      <td>N/A</td>\n",
       "      <td>N/A</td>\n",
       "    </tr>\n",
       "    <tr>\n",
       "      <th>4511</th>\n",
       "      <td>4997</td>\n",
       "      <td>marketing, digital courses</td>\n",
       "      <td>The user requests the creation of a detailed u...</td>\n",
       "      <td>N/A</td>\n",
       "      <td>N/A</td>\n",
       "    </tr>\n",
       "  </tbody>\n",
       "</table>\n",
       "<p>4512 rows × 5 columns</p>\n",
       "</div>"
      ],
      "text/plain": [
       "        id                                     domain  \\\n",
       "0        0                                mathematics   \n",
       "1        1                                        N/A   \n",
       "2        2                                   medicine   \n",
       "3        3  artificial intelligence, creative writing   \n",
       "4        4                                   culinary   \n",
       "...    ...                                        ...   \n",
       "4507  4993               psychology, personal finance   \n",
       "4508  4994                         culinary, business   \n",
       "4509  4995                          health, pregnancy   \n",
       "4510  4996                    technology, programming   \n",
       "4511  4997                 marketing, digital courses   \n",
       "\n",
       "                                                summary    rung  \\\n",
       "0     The user is asking for the derivative of a giv...     N/A   \n",
       "1                                                   N/A     N/A   \n",
       "2     The user requests a summary and the creation o...  Rung 1   \n",
       "3     Instructions for creating a detailed \"imagine ...     N/A   \n",
       "4     Request for a taco recipe using quorn mince wi...     N/A   \n",
       "...                                                 ...     ...   \n",
       "4507  Write an article about positive thinking and h...  Rung 2   \n",
       "4508  The user is seeking to create a list of Canton...     N/A   \n",
       "4509  The user requests the creation of a detailed, ...     N/A   \n",
       "4510  The user is asking for assistance in writing a...     N/A   \n",
       "4511  The user requests the creation of a detailed u...     N/A   \n",
       "\n",
       "                                              task_type  \n",
       "0                                                   N/A  \n",
       "1                                                   N/A  \n",
       "2     calculation of marginal and conditional probab...  \n",
       "3                                                   N/A  \n",
       "4                                                   N/A  \n",
       "...                                                 ...  \n",
       "4507                                                ATE  \n",
       "4508                                                N/A  \n",
       "4509                                                N/A  \n",
       "4510                                                N/A  \n",
       "4511                                                N/A  \n",
       "\n",
       "[4512 rows x 5 columns]"
      ]
     },
     "execution_count": 52,
     "metadata": {},
     "output_type": "execute_result"
    }
   ],
   "source": [
    "import pandas as pd\n",
    "\n",
    "df = pd.DataFrame(data)\n",
    "df"
   ]
  },
  {
   "cell_type": "code",
   "execution_count": null,
   "metadata": {},
   "outputs": [],
   "source": [
    "df.to_csv(\"new_sg_merged_gpt4.csv\", index=False)"
   ]
  }
 ],
 "metadata": {
  "kernelspec": {
   "display_name": "venv",
   "language": "python",
   "name": "python3"
  },
  "language_info": {
   "codemirror_mode": {
    "name": "ipython",
    "version": 3
   },
   "file_extension": ".py",
   "mimetype": "text/x-python",
   "name": "python",
   "nbconvert_exporter": "python",
   "pygments_lexer": "ipython3",
   "version": "3.11.5"
  }
 },
 "nbformat": 4,
 "nbformat_minor": 2
}
